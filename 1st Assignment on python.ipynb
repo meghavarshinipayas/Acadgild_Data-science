{
 "cells": [
  {
   "cell_type": "code",
   "execution_count": 1,
   "metadata": {},
   "outputs": [
    {
     "name": "stdout",
     "output_type": "stream",
     "text": [
      "1st Assignment: Instal jupyter notebook and share the screenshot of the first program\n",
      "Solution: Jupyter notebook is installed :)\n"
     ]
    }
   ],
   "source": [
    "A=\"Instal jupyter notebook and share the screenshot of the first program\"\n",
    "print ('1st Assignment:', A)\n",
    "print ('Solution: Jupyter notebook is installed :)')"
   ]
  },
  {
   "cell_type": "code",
   "execution_count": 2,
   "metadata": {},
   "outputs": [
    {
     "name": "stdout",
     "output_type": "stream",
     "text": [
      "2nd Assignment: Write a program which will find all such numbers which are divisible by 7 but are not a multiple of 5, between 2000 and 3200 (both included). The numbers obtained should be printed in acomma-separated sequence on a single line.\n"
     ]
    }
   ],
   "source": [
    "B=\"Write a program which will find all such numbers which are divisible by 7 but are not a multiple of 5, between 2000 and 3200 (both included). The numbers obtained should be printed in acomma-separated sequence on a single line.\"\n",
    "print ('2nd Assignment:', B)"
   ]
  },
  {
   "cell_type": "code",
   "execution_count": 3,
   "metadata": {},
   "outputs": [
    {
     "name": "stdout",
     "output_type": "stream",
     "text": [
      "solution: [2002, 2009, 2016, 2023, 2030, 2037, 2044, 2051, 2058, 2065, 2072, 2079, 2086, 2093, 2100, 2107, 2114, 2121, 2128, 2135, 2142, 2149, 2156, 2163, 2170, 2177, 2184, 2191, 2198, 2205, 2212, 2219, 2226, 2233, 2240, 2247, 2254, 2261, 2268, 2275, 2282, 2289, 2296, 2303, 2310, 2317, 2324, 2331, 2338, 2345, 2352, 2359, 2366, 2373, 2380, 2387, 2394, 2401, 2408, 2415, 2422, 2429, 2436, 2443, 2450, 2457, 2464, 2471, 2478, 2485, 2492, 2499, 2506, 2513, 2520, 2527, 2534, 2541, 2548, 2555, 2562, 2569, 2576, 2583, 2590, 2597, 2604, 2611, 2618, 2625, 2632, 2639, 2646, 2653, 2660, 2667, 2674, 2681, 2688, 2695, 2702, 2709, 2716, 2723, 2730, 2737, 2744, 2751, 2758, 2765, 2772, 2779, 2786, 2793, 2800, 2807, 2814, 2821, 2828, 2835, 2842, 2849, 2856, 2863, 2870, 2877, 2884, 2891, 2898, 2905, 2912, 2919, 2926, 2933, 2940, 2947, 2954, 2961, 2968, 2975, 2982, 2989, 2996, 3003, 3010, 3017, 3024, 3031, 3038, 3045, 3052, 3059, 3066, 3073, 3080, 3087, 3094, 3101, 3108, 3115, 3122, 3129, 3136, 3143, 3150, 3157, 3164, 3171, 3178, 3185, 3192, 3199]\n"
     ]
    }
   ],
   "source": [
    "m=[]\n",
    "for x in range(2000,3200):\n",
    "    if (x%7==0) and (x*5!=0):\n",
    "        m.append(x)\n",
    "print('solution:',m)"
   ]
  },
  {
   "cell_type": "code",
   "execution_count": 4,
   "metadata": {},
   "outputs": [
    {
     "name": "stdout",
     "output_type": "stream",
     "text": [
      "3rd Assignment: Write a Python program to accept the user's first and last name and then getting them printed in the the reverse order with a space between first name and last name.\n"
     ]
    }
   ],
   "source": [
    "C=\"Write a Python program to accept the user's first and last name and then getting them printed in the the reverse order with a space between first name and last name.\"\n",
    "print ('3rd Assignment:', C)"
   ]
  },
  {
   "cell_type": "code",
   "execution_count": 5,
   "metadata": {},
   "outputs": [
    {
     "name": "stdout",
     "output_type": "stream",
     "text": [
      "Enter the first name:Meghavarshini\n",
      "Enter the last name:Payas\n",
      "Payas   Meghavarshini\n"
     ]
    }
   ],
   "source": [
    "First_Name=input(\"Enter the first name:\")\n",
    "Last_Name=input(\"Enter the last name:\")\n",
    "print(Last_Name,' ',First_Name)"
   ]
  },
  {
   "cell_type": "code",
   "execution_count": 7,
   "metadata": {},
   "outputs": [
    {
     "name": "stdout",
     "output_type": "stream",
     "text": [
      "4rth Assignment: Write a Python program to find the volume of a sphere with diameter 12 cm.Formula: V=4/3 * π * r3\n"
     ]
    }
   ],
   "source": [
    "D=\"Write a Python program to find the volume of a sphere with diameter 12 cm.Formula: V=4/3 * π * r3\"\n",
    "print ('4rth Assignment:', D)"
   ]
  },
  {
   "cell_type": "code",
   "execution_count": 10,
   "metadata": {},
   "outputs": [
    {
     "name": "stdout",
     "output_type": "stream",
     "text": [
      "Solution:Volume of a sphere is: 7234.559999999999\n"
     ]
    }
   ],
   "source": [
    "r=12\n",
    "pi=3.14\n",
    "V=4/3*pi*r*r*r\n",
    "print('Solution:Volume of a sphere is:',V)"
   ]
  },
  {
   "cell_type": "code",
   "execution_count": null,
   "metadata": {},
   "outputs": [],
   "source": []
  }
 ],
 "metadata": {
  "kernelspec": {
   "display_name": "Python 3",
   "language": "python",
   "name": "python3"
  },
  "language_info": {
   "codemirror_mode": {
    "name": "ipython",
    "version": 3
   },
   "file_extension": ".py",
   "mimetype": "text/x-python",
   "name": "python",
   "nbconvert_exporter": "python",
   "pygments_lexer": "ipython3",
   "version": "3.6.5"
  }
 },
 "nbformat": 4,
 "nbformat_minor": 2
}
